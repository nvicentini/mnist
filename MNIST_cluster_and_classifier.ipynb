{
 "cells": [
  {
   "cell_type": "markdown",
   "metadata": {},
   "source": [
    "# print('2 - Sobre los datos de MNIST, intenten luego de clusterizar armar un clasificador.')"
   ]
  },
  {
   "cell_type": "code",
   "execution_count": 28,
   "metadata": {},
   "outputs": [],
   "source": [
    "#importo librerías a utilizar\n",
    "\n",
    "import numpy as np\n",
    "import matplotlib.pyplot as plt\n",
    "from sklearn.cluster import KMeans\n",
    "from sklearn import metrics\n",
    "from sklearn import manifold, datasets\n",
    "from sklearn.model_selection import train_test_split\n",
    "from sklearn.neighbors import KNeighborsClassifier\n",
    "from sklearn.metrics import accuracy_score"
   ]
  },
  {
   "cell_type": "code",
   "execution_count": 29,
   "metadata": {},
   "outputs": [],
   "source": [
    "#levanto los datos del dataset de digitos de sklearn\n",
    "\n",
    "X, y = datasets.load_digits(return_X_y=True)"
   ]
  },
  {
   "cell_type": "markdown",
   "metadata": {},
   "source": [
    "\n",
    "### Clusterización"
   ]
  },
  {
   "cell_type": "code",
   "execution_count": 30,
   "metadata": {},
   "outputs": [
    {
     "name": "stdout",
     "output_type": "stream",
     "text": [
      "Silhouette Coefficient (-1,1) for 2 clusters : 0.11832841100655983\n",
      "Silhouette Coefficient (-1,1) for 3 clusters : 0.12649498093440542\n",
      "Silhouette Coefficient (-1,1) for 4 clusters : 0.12801530390921514\n",
      "Silhouette Coefficient (-1,1) for 5 clusters : 0.13602996477728693\n",
      "Silhouette Coefficient (-1,1) for 6 clusters : 0.1506988769065821\n",
      "Silhouette Coefficient (-1,1) for 7 clusters : 0.16340865610996783\n",
      "Silhouette Coefficient (-1,1) for 8 clusters : 0.1787311658342856\n",
      "Silhouette Coefficient (-1,1) for 9 clusters : 0.18915779051679507\n",
      "Silhouette Coefficient (-1,1) for 10 clusters : 0.18266977911850646\n",
      "Silhouette Coefficient (-1,1) for 11 clusters : 0.18322248514469064\n",
      "Silhouette Coefficient (-1,1) for 12 clusters : 0.18541039743718418\n",
      "Silhouette Coefficient (-1,1) for 13 clusters : 0.18544819413708535\n",
      "Silhouette Coefficient (-1,1) for 14 clusters : 0.1844320894731903\n",
      "Silhouette Coefficient (-1,1) for 15 clusters : 0.185275251225165\n",
      "Silhouette Coefficient (-1,1) for 16 clusters : 0.18326027725607877\n",
      "Silhouette Coefficient (-1,1) for 17 clusters : 0.17631168056184662\n",
      "Silhouette Coefficient (-1,1) for 18 clusters : 0.17126851845157448\n",
      "Silhouette Coefficient (-1,1) for 19 clusters : 0.1719371069365881\n"
     ]
    }
   ],
   "source": [
    "# con k-means verifico la cantidad de clusters optimos en que se pueden agrupar las observaciones\n",
    "\n",
    "for i in range(2,20):\n",
    "    km = KMeans(n_clusters=i).fit_predict(X)\n",
    "    sil = metrics.silhouette_score(X, km)\n",
    "    print(f\"Silhouette Coefficient (-1,1) for {i} clusters : {sil}\" )\n"
   ]
  },
  {
   "cell_type": "markdown",
   "metadata": {},
   "source": [
    "### Clasificación"
   ]
  },
  {
   "cell_type": "code",
   "execution_count": 31,
   "metadata": {},
   "outputs": [
    {
     "name": "stdout",
     "output_type": "stream",
     "text": [
      "este dataset tiene 1797 observaciones y 64 variables\n"
     ]
    }
   ],
   "source": [
    "#verifico la cantidad de observaciones y variables\n",
    "\n",
    "q_samples, q_features = X.shape\n",
    "print(f\"este dataset tiene {q_samples} observaciones y {q_features} variables\")"
   ]
  },
  {
   "cell_type": "code",
   "execution_count": 45,
   "metadata": {},
   "outputs": [],
   "source": [
    "#Realizo el split en train y test, reservando un 25% de los datos para el test\n",
    "\n",
    "X_train, X_test, y_train, y_test = train_test_split(X, y, test_size=0.25, random_state=110)"
   ]
  },
  {
   "cell_type": "code",
   "execution_count": 46,
   "metadata": {},
   "outputs": [
    {
     "name": "stdout",
     "output_type": "stream",
     "text": [
      "Mejor accuracy: 0.9911111111111112 con 5 neighbors\n"
     ]
    }
   ],
   "source": [
    "#entreno un modelo de K-Nearest Neighbors con diferente K para verificar el valor que mejor predice sobre valores desconocidos\n",
    "\n",
    "best_acc = 0\n",
    "best_num = 0\n",
    "\n",
    "for nei in range(2,12):\n",
    "    modelo = KNeighborsClassifier(n_neighbors=nei)\n",
    "    modelo.fit(X_train,y_train)\n",
    "    y_pred = modelo.predict(X_test)\n",
    "    acc = accuracy_score(y_test, y_pred)\n",
    "    if acc > best_acc:\n",
    "        best_acc = acc\n",
    "        best_num = nei\n",
    "    \n",
    "print(f\"Mejor accuracy: {best_acc} con {best_num} neighbors\")"
   ]
  }
 ],
 "metadata": {
  "kernelspec": {
   "display_name": "Python 3",
   "language": "python",
   "name": "python3"
  },
  "language_info": {
   "codemirror_mode": {
    "name": "ipython",
    "version": 3
   },
   "file_extension": ".py",
   "mimetype": "text/x-python",
   "name": "python",
   "nbconvert_exporter": "python",
   "pygments_lexer": "ipython3",
   "version": "3.7.6"
  }
 },
 "nbformat": 4,
 "nbformat_minor": 4
}
